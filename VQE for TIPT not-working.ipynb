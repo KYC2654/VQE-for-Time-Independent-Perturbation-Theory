{
 "cells": [
  {
   "cell_type": "code",
   "execution_count": 3,
   "id": "5d5ac2ee-6313-4edf-b83c-e23826404828",
   "metadata": {},
   "outputs": [
    {
     "name": "stdout",
     "output_type": "stream",
     "text": [
      "Collecting qiskit\n",
      "  Using cached qiskit-1.3.0-cp39-abi3-manylinux_2_17_x86_64.manylinux2014_x86_64.whl (6.7 MB)\n",
      "Collecting rustworkx>=0.15.0\n",
      "  Using cached rustworkx-0.15.1-cp38-abi3-manylinux_2_17_x86_64.manylinux2014_x86_64.whl (2.0 MB)\n",
      "Requirement already satisfied: numpy<3,>=1.17 in /srv/conda/lib/python3.11/site-packages (from qiskit) (1.26.4)\n",
      "Requirement already satisfied: scipy>=1.5 in /srv/conda/lib/python3.11/site-packages (from qiskit) (1.10.0)\n",
      "Requirement already satisfied: sympy>=1.3 in /srv/conda/lib/python3.11/site-packages (from qiskit) (1.8)\n",
      "Requirement already satisfied: dill>=0.3 in /srv/conda/lib/python3.11/site-packages (from qiskit) (0.3.9)\n",
      "Requirement already satisfied: python-dateutil>=2.8.0 in /srv/conda/lib/python3.11/site-packages (from qiskit) (2.9.0)\n",
      "Collecting stevedore>=3.0.0\n",
      "  Using cached stevedore-5.4.0-py3-none-any.whl (49 kB)\n",
      "Requirement already satisfied: typing-extensions in /srv/conda/lib/python3.11/site-packages (from qiskit) (4.7.0)\n",
      "Collecting symengine<0.14,>=0.11\n",
      "  Using cached symengine-0.13.0-cp311-cp311-manylinux_2_17_x86_64.manylinux2014_x86_64.whl (49.7 MB)\n",
      "Requirement already satisfied: six>=1.5 in /srv/conda/lib/python3.11/site-packages (from python-dateutil>=2.8.0->qiskit) (1.16.0)\n",
      "Collecting pbr>=2.0.0\n",
      "  Using cached pbr-6.1.0-py2.py3-none-any.whl (108 kB)\n",
      "Requirement already satisfied: mpmath>=0.19 in /srv/conda/lib/python3.11/site-packages (from sympy>=1.3->qiskit) (1.3.0)\n",
      "Installing collected packages: symengine, rustworkx, pbr, stevedore, qiskit\n",
      "Successfully installed pbr-6.1.0 qiskit-1.3.0 rustworkx-0.15.1 stevedore-5.4.0 symengine-0.13.0\n",
      "Note: you may need to restart the kernel to use updated packages.\n"
     ]
    }
   ],
   "source": [
    "pip install qiskit"
   ]
  },
  {
   "cell_type": "code",
   "execution_count": 4,
   "id": "6a8b6015-a7c9-4aee-934d-5e1b47da8f53",
   "metadata": {},
   "outputs": [
    {
     "name": "stdout",
     "output_type": "stream",
     "text": [
      "Collecting qiskit_aer\n",
      "  Using cached qiskit_aer-0.15.1-cp311-cp311-manylinux_2_17_x86_64.manylinux2014_x86_64.whl (12.3 MB)\n",
      "Requirement already satisfied: qiskit>=1.1.0 in /srv/conda/lib/python3.11/site-packages (from qiskit_aer) (1.3.0)\n",
      "Requirement already satisfied: numpy>=1.16.3 in /srv/conda/lib/python3.11/site-packages (from qiskit_aer) (1.26.4)\n",
      "Requirement already satisfied: scipy>=1.0 in /srv/conda/lib/python3.11/site-packages (from qiskit_aer) (1.10.0)\n",
      "Requirement already satisfied: psutil>=5 in /srv/conda/lib/python3.11/site-packages (from qiskit_aer) (5.9.8)\n",
      "Requirement already satisfied: rustworkx>=0.15.0 in /srv/conda/lib/python3.11/site-packages (from qiskit>=1.1.0->qiskit_aer) (0.15.1)\n",
      "Requirement already satisfied: sympy>=1.3 in /srv/conda/lib/python3.11/site-packages (from qiskit>=1.1.0->qiskit_aer) (1.8)\n",
      "Requirement already satisfied: dill>=0.3 in /srv/conda/lib/python3.11/site-packages (from qiskit>=1.1.0->qiskit_aer) (0.3.9)\n",
      "Requirement already satisfied: python-dateutil>=2.8.0 in /srv/conda/lib/python3.11/site-packages (from qiskit>=1.1.0->qiskit_aer) (2.9.0)\n",
      "Requirement already satisfied: stevedore>=3.0.0 in /srv/conda/lib/python3.11/site-packages (from qiskit>=1.1.0->qiskit_aer) (5.4.0)\n",
      "Requirement already satisfied: typing-extensions in /srv/conda/lib/python3.11/site-packages (from qiskit>=1.1.0->qiskit_aer) (4.7.0)\n",
      "Requirement already satisfied: symengine<0.14,>=0.11 in /srv/conda/lib/python3.11/site-packages (from qiskit>=1.1.0->qiskit_aer) (0.13.0)\n",
      "Requirement already satisfied: six>=1.5 in /srv/conda/lib/python3.11/site-packages (from python-dateutil>=2.8.0->qiskit>=1.1.0->qiskit_aer) (1.16.0)\n",
      "Requirement already satisfied: pbr>=2.0.0 in /srv/conda/lib/python3.11/site-packages (from stevedore>=3.0.0->qiskit>=1.1.0->qiskit_aer) (6.1.0)\n",
      "Requirement already satisfied: mpmath>=0.19 in /srv/conda/lib/python3.11/site-packages (from sympy>=1.3->qiskit>=1.1.0->qiskit_aer) (1.3.0)\n",
      "Installing collected packages: qiskit_aer\n",
      "Successfully installed qiskit_aer-0.15.1\n",
      "Note: you may need to restart the kernel to use updated packages.\n"
     ]
    }
   ],
   "source": [
    "pip install qiskit_aer"
   ]
  },
  {
   "cell_type": "code",
   "execution_count": 5,
   "id": "fe8a83ed-6dde-48e6-bb82-9d6e196bbb36",
   "metadata": {},
   "outputs": [
    {
     "name": "stdout",
     "output_type": "stream",
     "text": [
      "Collecting qiskit_algorithms\n",
      "  Using cached qiskit_algorithms-0.3.1-py3-none-any.whl (310 kB)\n",
      "Requirement already satisfied: qiskit>=0.44 in /srv/conda/lib/python3.11/site-packages (from qiskit_algorithms) (1.3.0)\n",
      "Requirement already satisfied: scipy>=1.4 in /srv/conda/lib/python3.11/site-packages (from qiskit_algorithms) (1.10.0)\n",
      "Requirement already satisfied: numpy>=1.17 in /srv/conda/lib/python3.11/site-packages (from qiskit_algorithms) (1.26.4)\n",
      "Requirement already satisfied: rustworkx>=0.15.0 in /srv/conda/lib/python3.11/site-packages (from qiskit>=0.44->qiskit_algorithms) (0.15.1)\n",
      "Requirement already satisfied: sympy>=1.3 in /srv/conda/lib/python3.11/site-packages (from qiskit>=0.44->qiskit_algorithms) (1.8)\n",
      "Requirement already satisfied: dill>=0.3 in /srv/conda/lib/python3.11/site-packages (from qiskit>=0.44->qiskit_algorithms) (0.3.9)\n",
      "Requirement already satisfied: python-dateutil>=2.8.0 in /srv/conda/lib/python3.11/site-packages (from qiskit>=0.44->qiskit_algorithms) (2.9.0)\n",
      "Requirement already satisfied: stevedore>=3.0.0 in /srv/conda/lib/python3.11/site-packages (from qiskit>=0.44->qiskit_algorithms) (5.4.0)\n",
      "Requirement already satisfied: typing-extensions in /srv/conda/lib/python3.11/site-packages (from qiskit>=0.44->qiskit_algorithms) (4.7.0)\n",
      "Requirement already satisfied: symengine<0.14,>=0.11 in /srv/conda/lib/python3.11/site-packages (from qiskit>=0.44->qiskit_algorithms) (0.13.0)\n",
      "Requirement already satisfied: six>=1.5 in /srv/conda/lib/python3.11/site-packages (from python-dateutil>=2.8.0->qiskit>=0.44->qiskit_algorithms) (1.16.0)\n",
      "Requirement already satisfied: pbr>=2.0.0 in /srv/conda/lib/python3.11/site-packages (from stevedore>=3.0.0->qiskit>=0.44->qiskit_algorithms) (6.1.0)\n",
      "Requirement already satisfied: mpmath>=0.19 in /srv/conda/lib/python3.11/site-packages (from sympy>=1.3->qiskit>=0.44->qiskit_algorithms) (1.3.0)\n",
      "Installing collected packages: qiskit_algorithms\n",
      "Successfully installed qiskit_algorithms-0.3.1\n",
      "Note: you may need to restart the kernel to use updated packages.\n"
     ]
    }
   ],
   "source": [
    "pip install qiskit_algorithms"
   ]
  },
  {
   "cell_type": "code",
   "execution_count": 10,
   "id": "dede9429-cab4-474a-b2b1-71010877ef47",
   "metadata": {},
   "outputs": [],
   "source": [
    "from qiskit import QuantumCircuit, QuantumRegister, ClassicalRegister\n",
    "from qiskit_algorithms.optimizers import COBYLA\n",
    "from qiskit.quantum_info import Operator\n",
    "import numpy as np"
   ]
  },
  {
   "cell_type": "code",
   "execution_count": 11,
   "id": "327487e4-8b7c-47ed-be91-65943e9ae352",
   "metadata": {},
   "outputs": [],
   "source": [
    "def ansatz(num_qubits, params):\n",
    "    \"\"\"Creates a parameterized circuit for finding good basis states\"\"\"\n",
    "    qc = QuantumCircuit(num_qubits)\n",
    "    \n",
    "    # Layer of single-qubit rotations\n",
    "    for i in range(num_qubits):\n",
    "        qc.ry(params[i*2], i)\n",
    "        qc.rz(params[i*2 + 1], i)\n",
    "    \n",
    "    # Entangling layer\n",
    "    for i in range(num_qubits-1):\n",
    "        qc.cnot(i, i+1)\n",
    "    \n",
    "    return qc\n",
    "\n",
    "def perturb_ansatz(h0_circuit, v_operator, params):\n",
    "    \"\"\"Combines unperturbed and perturbation circuits\"\"\"\n",
    "    num_qubits = h0_circuit.num_qubits\n",
    "    qc = QuantumCircuit(num_qubits)\n",
    "    \n",
    "    # Apply H0 circuit\n",
    "    qc.compose(h0_circuit, inplace=True)\n",
    "    \n",
    "    # Apply perturbation with small parameter λ\n",
    "    lambda_param = params[-1]  # Last parameter is λ\n",
    "    qc.compose(v_operator.exp_i(lambda_param), inplace=True)\n",
    "    \n",
    "    return qc\n",
    "\n",
    "def cost(params, h0_circuit, v_operator, backend):\n",
    "    \"\"\"Cost function for VQE optimization\"\"\"\n",
    "    circuit = perturb_ansatz(h0_circuit, v_operator, params)\n",
    "    \n",
    "    # Measure energy expectation\n",
    "    job = backend.run(circuit)\n",
    "    result = job.result()\n",
    "    \n",
    "    # Calculate energy expectation value\n",
    "    energy = result.get_expectation_value()\n",
    "    return np.real(energy)\n",
    "\n",
    "def find_good_basis(h0_operator, v_operator, num_qubits, backend):\n",
    "    \"\"\"Find good basis states for degenerate perturbation theory\"\"\"\n",
    "    \n",
    "    # Initialize parameters\n",
    "    num_params = 2 * num_qubits + 1  # Rotation params + λ\n",
    "    initial_params = np.random.random(num_params) * 2 * np.pi\n",
    "    \n",
    "    # Setup optimizer\n",
    "    optimizer = COBYLA(maxiter=1000)\n",
    "    \n",
    "    # Run optimization\n",
    "    opt_result = optimizer.minimize(\n",
    "        fun=cost,\n",
    "        x0=initial_params,\n",
    "        args=(h0_operator, v_operator, backend)\n",
    "    )\n",
    "    \n",
    "    return opt_result.x"
   ]
  },
  {
   "cell_type": "code",
   "execution_count": 12,
   "id": "a56aa0e5-8da0-4eef-8a5d-43d077efefa0",
   "metadata": {},
   "outputs": [
    {
     "ename": "AttributeError",
     "evalue": "'Operator' object has no attribute 'num_clbits'",
     "output_type": "error",
     "traceback": [
      "\u001b[0;31m---------------------------------------------------------------------------\u001b[0m",
      "\u001b[0;31mAttributeError\u001b[0m                            Traceback (most recent call last)",
      "Cell \u001b[0;32mIn[12], line 17\u001b[0m\n\u001b[1;32m     15\u001b[0m \u001b[38;5;66;03m# Create quantum circuit for H0\u001b[39;00m\n\u001b[1;32m     16\u001b[0m h0_circuit \u001b[38;5;241m=\u001b[39m QuantumCircuit(num_qubits)\n\u001b[0;32m---> 17\u001b[0m \u001b[43mh0_circuit\u001b[49m\u001b[38;5;241;43m.\u001b[39;49m\u001b[43mcompose\u001b[49m\u001b[43m(\u001b[49m\u001b[43mh0\u001b[49m\u001b[43m,\u001b[49m\u001b[43m \u001b[49m\u001b[43minplace\u001b[49m\u001b[38;5;241;43m=\u001b[39;49m\u001b[38;5;28;43;01mTrue\u001b[39;49;00m\u001b[43m)\u001b[49m\n\u001b[1;32m     19\u001b[0m \u001b[38;5;66;03m# Find good basis states\u001b[39;00m\n\u001b[1;32m     20\u001b[0m optimal_params \u001b[38;5;241m=\u001b[39m find_good_basis(h0_circuit, v, num_qubits, backend)\n",
      "File \u001b[0;32m/srv/conda/lib/python3.11/site-packages/qiskit/circuit/quantumcircuit.py:1992\u001b[0m, in \u001b[0;36mQuantumCircuit.compose\u001b[0;34m(self, other, qubits, clbits, front, inplace, wrap, copy, var_remap, inline_captures)\u001b[0m\n\u001b[1;32m   1990\u001b[0m     qubits \u001b[38;5;241m=\u001b[39m \u001b[38;5;28mself\u001b[39m\u001b[38;5;241m.\u001b[39mqubits[: other\u001b[38;5;241m.\u001b[39mnum_qubits]\n\u001b[1;32m   1991\u001b[0m \u001b[38;5;28;01mif\u001b[39;00m clbits \u001b[38;5;129;01mis\u001b[39;00m \u001b[38;5;28;01mNone\u001b[39;00m:\n\u001b[0;32m-> 1992\u001b[0m     clbits \u001b[38;5;241m=\u001b[39m \u001b[38;5;28mself\u001b[39m\u001b[38;5;241m.\u001b[39mclbits[: \u001b[43mother\u001b[49m\u001b[38;5;241;43m.\u001b[39;49m\u001b[43mnum_clbits\u001b[49m]\n\u001b[1;32m   1993\u001b[0m \u001b[38;5;28;01mif\u001b[39;00m front:\n\u001b[1;32m   1994\u001b[0m     \u001b[38;5;66;03m# Need to keep a reference to the data for use after we've emptied it.\u001b[39;00m\n\u001b[1;32m   1995\u001b[0m     old_data \u001b[38;5;241m=\u001b[39m dest\u001b[38;5;241m.\u001b[39m_data\u001b[38;5;241m.\u001b[39mcopy(copy_instructions\u001b[38;5;241m=\u001b[39mcopy)\n",
      "\u001b[0;31mAttributeError\u001b[0m: 'Operator' object has no attribute 'num_clbits'"
     ]
    }
   ],
   "source": [
    "# Example usage\n",
    "num_qubits = 2\n",
    "    \n",
    "# Define H0 and V operators (example)\n",
    "h0 = Operator([[1, 0, 0, 0],\n",
    "               [0, 2, 0, 0],\n",
    "               [0, 0, 2, 0],\n",
    "               [0, 0, 0, 3]])\n",
    "\n",
    "v = Operator([[0, 1, 0, 0],\n",
    "              [1, 0, 0, 0],\n",
    "              [0, 0, 0, 1],\n",
    "              [0, 0, 1, 0]])\n",
    "\n",
    "# Create quantum circuit for H0\n",
    "h0_circuit = QuantumCircuit(num_qubits)\n",
    "h0_circuit.compose(h0, inplace=True)\n",
    "\n",
    "# Find good basis states\n",
    "optimal_params = find_good_basis(h0_circuit, v, num_qubits, backend)\n",
    "\n",
    "# Create optimized circuit\n",
    "final_circuit = perturb_ansatz(h0_circuit, v, optimal_params)\n",
    "\n",
    "return final_circuit, optimal_params"
   ]
  },
  {
   "cell_type": "code",
   "execution_count": null,
   "id": "df35825b-1058-47ac-83bb-a56b9ab2ed5e",
   "metadata": {},
   "outputs": [],
   "source": []
  }
 ],
 "metadata": {
  "kernelspec": {
   "display_name": "Python 3 (ipykernel)",
   "language": "python",
   "name": "python3"
  },
  "language_info": {
   "codemirror_mode": {
    "name": "ipython",
    "version": 3
   },
   "file_extension": ".py",
   "mimetype": "text/x-python",
   "name": "python",
   "nbconvert_exporter": "python",
   "pygments_lexer": "ipython3",
   "version": "3.11.10"
  }
 },
 "nbformat": 4,
 "nbformat_minor": 5
}
