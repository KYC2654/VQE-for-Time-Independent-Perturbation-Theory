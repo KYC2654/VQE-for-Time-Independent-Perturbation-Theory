{
 "cells": [
  {
   "cell_type": "code",
   "execution_count": 3,
   "id": "5d5ac2ee-6313-4edf-b83c-e23826404828",
   "metadata": {},
   "outputs": [
    {
     "name": "stdout",
     "output_type": "stream",
     "text": [
      "Collecting qiskit\n",
      "  Using cached qiskit-1.3.0-cp39-abi3-manylinux_2_17_x86_64.manylinux2014_x86_64.whl (6.7 MB)\n",
      "Collecting rustworkx>=0.15.0\n",
      "  Using cached rustworkx-0.15.1-cp38-abi3-manylinux_2_17_x86_64.manylinux2014_x86_64.whl (2.0 MB)\n",
      "Requirement already satisfied: numpy<3,>=1.17 in /srv/conda/lib/python3.11/site-packages (from qiskit) (1.26.4)\n",
      "Requirement already satisfied: scipy>=1.5 in /srv/conda/lib/python3.11/site-packages (from qiskit) (1.10.0)\n",
      "Requirement already satisfied: sympy>=1.3 in /srv/conda/lib/python3.11/site-packages (from qiskit) (1.8)\n",
      "Requirement already satisfied: dill>=0.3 in /srv/conda/lib/python3.11/site-packages (from qiskit) (0.3.9)\n",
      "Requirement already satisfied: python-dateutil>=2.8.0 in /srv/conda/lib/python3.11/site-packages (from qiskit) (2.9.0)\n",
      "Collecting stevedore>=3.0.0\n",
      "  Using cached stevedore-5.4.0-py3-none-any.whl (49 kB)\n",
      "Requirement already satisfied: typing-extensions in /srv/conda/lib/python3.11/site-packages (from qiskit) (4.7.0)\n",
      "Collecting symengine<0.14,>=0.11\n",
      "  Using cached symengine-0.13.0-cp311-cp311-manylinux_2_17_x86_64.manylinux2014_x86_64.whl (49.7 MB)\n",
      "Requirement already satisfied: six>=1.5 in /srv/conda/lib/python3.11/site-packages (from python-dateutil>=2.8.0->qiskit) (1.16.0)\n",
      "Collecting pbr>=2.0.0\n",
      "  Using cached pbr-6.1.0-py2.py3-none-any.whl (108 kB)\n",
      "Requirement already satisfied: mpmath>=0.19 in /srv/conda/lib/python3.11/site-packages (from sympy>=1.3->qiskit) (1.3.0)\n",
      "Installing collected packages: symengine, rustworkx, pbr, stevedore, qiskit\n",
      "Successfully installed pbr-6.1.0 qiskit-1.3.0 rustworkx-0.15.1 stevedore-5.4.0 symengine-0.13.0\n",
      "Note: you may need to restart the kernel to use updated packages.\n"
     ]
    }
   ],
   "source": [
    "pip install qiskit"
   ]
  },
  {
   "cell_type": "code",
   "execution_count": 4,
   "id": "6a8b6015-a7c9-4aee-934d-5e1b47da8f53",
   "metadata": {},
   "outputs": [
    {
     "name": "stdout",
     "output_type": "stream",
     "text": [
      "Collecting qiskit_aer\n",
      "  Using cached qiskit_aer-0.15.1-cp311-cp311-manylinux_2_17_x86_64.manylinux2014_x86_64.whl (12.3 MB)\n",
      "Requirement already satisfied: qiskit>=1.1.0 in /srv/conda/lib/python3.11/site-packages (from qiskit_aer) (1.3.0)\n",
      "Requirement already satisfied: numpy>=1.16.3 in /srv/conda/lib/python3.11/site-packages (from qiskit_aer) (1.26.4)\n",
      "Requirement already satisfied: scipy>=1.0 in /srv/conda/lib/python3.11/site-packages (from qiskit_aer) (1.10.0)\n",
      "Requirement already satisfied: psutil>=5 in /srv/conda/lib/python3.11/site-packages (from qiskit_aer) (5.9.8)\n",
      "Requirement already satisfied: rustworkx>=0.15.0 in /srv/conda/lib/python3.11/site-packages (from qiskit>=1.1.0->qiskit_aer) (0.15.1)\n",
      "Requirement already satisfied: sympy>=1.3 in /srv/conda/lib/python3.11/site-packages (from qiskit>=1.1.0->qiskit_aer) (1.8)\n",
      "Requirement already satisfied: dill>=0.3 in /srv/conda/lib/python3.11/site-packages (from qiskit>=1.1.0->qiskit_aer) (0.3.9)\n",
      "Requirement already satisfied: python-dateutil>=2.8.0 in /srv/conda/lib/python3.11/site-packages (from qiskit>=1.1.0->qiskit_aer) (2.9.0)\n",
      "Requirement already satisfied: stevedore>=3.0.0 in /srv/conda/lib/python3.11/site-packages (from qiskit>=1.1.0->qiskit_aer) (5.4.0)\n",
      "Requirement already satisfied: typing-extensions in /srv/conda/lib/python3.11/site-packages (from qiskit>=1.1.0->qiskit_aer) (4.7.0)\n",
      "Requirement already satisfied: symengine<0.14,>=0.11 in /srv/conda/lib/python3.11/site-packages (from qiskit>=1.1.0->qiskit_aer) (0.13.0)\n",
      "Requirement already satisfied: six>=1.5 in /srv/conda/lib/python3.11/site-packages (from python-dateutil>=2.8.0->qiskit>=1.1.0->qiskit_aer) (1.16.0)\n",
      "Requirement already satisfied: pbr>=2.0.0 in /srv/conda/lib/python3.11/site-packages (from stevedore>=3.0.0->qiskit>=1.1.0->qiskit_aer) (6.1.0)\n",
      "Requirement already satisfied: mpmath>=0.19 in /srv/conda/lib/python3.11/site-packages (from sympy>=1.3->qiskit>=1.1.0->qiskit_aer) (1.3.0)\n",
      "Installing collected packages: qiskit_aer\n",
      "Successfully installed qiskit_aer-0.15.1\n",
      "Note: you may need to restart the kernel to use updated packages.\n"
     ]
    }
   ],
   "source": [
    "pip install qiskit_aer"
   ]
  },
  {
   "cell_type": "code",
   "execution_count": 5,
   "id": "fe8a83ed-6dde-48e6-bb82-9d6e196bbb36",
   "metadata": {},
   "outputs": [
    {
     "name": "stdout",
     "output_type": "stream",
     "text": [
      "Collecting qiskit_algorithms\n",
      "  Using cached qiskit_algorithms-0.3.1-py3-none-any.whl (310 kB)\n",
      "Requirement already satisfied: qiskit>=0.44 in /srv/conda/lib/python3.11/site-packages (from qiskit_algorithms) (1.3.0)\n",
      "Requirement already satisfied: scipy>=1.4 in /srv/conda/lib/python3.11/site-packages (from qiskit_algorithms) (1.10.0)\n",
      "Requirement already satisfied: numpy>=1.17 in /srv/conda/lib/python3.11/site-packages (from qiskit_algorithms) (1.26.4)\n",
      "Requirement already satisfied: rustworkx>=0.15.0 in /srv/conda/lib/python3.11/site-packages (from qiskit>=0.44->qiskit_algorithms) (0.15.1)\n",
      "Requirement already satisfied: sympy>=1.3 in /srv/conda/lib/python3.11/site-packages (from qiskit>=0.44->qiskit_algorithms) (1.8)\n",
      "Requirement already satisfied: dill>=0.3 in /srv/conda/lib/python3.11/site-packages (from qiskit>=0.44->qiskit_algorithms) (0.3.9)\n",
      "Requirement already satisfied: python-dateutil>=2.8.0 in /srv/conda/lib/python3.11/site-packages (from qiskit>=0.44->qiskit_algorithms) (2.9.0)\n",
      "Requirement already satisfied: stevedore>=3.0.0 in /srv/conda/lib/python3.11/site-packages (from qiskit>=0.44->qiskit_algorithms) (5.4.0)\n",
      "Requirement already satisfied: typing-extensions in /srv/conda/lib/python3.11/site-packages (from qiskit>=0.44->qiskit_algorithms) (4.7.0)\n",
      "Requirement already satisfied: symengine<0.14,>=0.11 in /srv/conda/lib/python3.11/site-packages (from qiskit>=0.44->qiskit_algorithms) (0.13.0)\n",
      "Requirement already satisfied: six>=1.5 in /srv/conda/lib/python3.11/site-packages (from python-dateutil>=2.8.0->qiskit>=0.44->qiskit_algorithms) (1.16.0)\n",
      "Requirement already satisfied: pbr>=2.0.0 in /srv/conda/lib/python3.11/site-packages (from stevedore>=3.0.0->qiskit>=0.44->qiskit_algorithms) (6.1.0)\n",
      "Requirement already satisfied: mpmath>=0.19 in /srv/conda/lib/python3.11/site-packages (from sympy>=1.3->qiskit>=0.44->qiskit_algorithms) (1.3.0)\n",
      "Installing collected packages: qiskit_algorithms\n",
      "Successfully installed qiskit_algorithms-0.3.1\n",
      "Note: you may need to restart the kernel to use updated packages.\n"
     ]
    }
   ],
   "source": [
    "pip install qiskit_algorithms"
   ]
  },
  {
   "cell_type": "markdown",
   "id": "b060c785-5e87-46bf-8e49-67c6985dce3e",
   "metadata": {},
   "source": [
    "### ignore following:"
   ]
  },
  {
   "cell_type": "code",
   "execution_count": 5,
   "id": "dede9429-cab4-474a-b2b1-71010877ef47",
   "metadata": {},
   "outputs": [],
   "source": [
    "'''from qiskit import QuantumCircuit, QuantumRegister, ClassicalRegister\n",
    "from qiskit_algorithms.optimizers import COBYLA\n",
    "from qiskit.quantum_info import Operator\n",
    "import numpy as np"
   ]
  },
  {
   "cell_type": "code",
   "execution_count": 30,
   "id": "327487e4-8b7c-47ed-be91-65943e9ae352",
   "metadata": {},
   "outputs": [],
   "source": [
    "\'\'\'def ansatz(num_qubits, params):\n",
    "    Creates a parameterized circuit for finding good basis states\n",
    "    qc = QuantumCircuit(num_qubits)\n",
    "    \n",
    "    # Layer of single-qubit rotations\n",
    "    for i in range(num_qubits):\n",
    "        qc.ry(params[i*2], i)\n",
    "        qc.rz(params[i*2 + 1], i)\n",
    "    \n",
    "    # Entangling layer\n",
    "    for i in range(num_qubits-1):\n",
    "        qc.cnot(i, i+1)\n",
    "    \n",
    "    return qc\n",
    "\n",
    "def perturb_ansatz(h0_circuit, v_operator, params):\n",
    "    \"\"\"Combines unperturbed and perturbation circuits\"\"\"\n",
    "    num_qubits = h0_circuit.num_qubits\n",
    "    qc = QuantumCircuit(num_qubits)\n",
    "    \n",
    "    # Apply H0 circuit\n",
    "    qc.compose(h0_circuit, inplace=True)\n",
    "    \n",
    "    # Apply perturbation with small parameter λ\n",
    "    lambda_param = params[-1]  # Last parameter is λ\n",
    "    qc.compose(v_operator.exp_i(lambda_param), inplace=True)\n",
    "    \n",
    "    return qc\n",
    "\n",
    "def cost(params, h0_circuit, v_operator, backend):\n",
    "    \"\"\"Cost function for VQE optimization\"\"\"\n",
    "    circuit = perturb_ansatz(h0_circuit, v_operator, params)\n",
    "    \n",
    "    # Measure energy expectation\n",
    "    job = backend.run(circuit)\n",
    "    result = job.result()\n",
    "    \n",
    "    # Calculate energy expectation value\n",
    "    energy = result.get_expectation_value()\n",
    "    return np.real(energy)\n",
    "\n",
    "def find_good_basis(h0_operator, v_operator, num_qubits, backend):\n",
    "    \"\"\"Find good basis states for degenerate perturbation theory\"\"\"\n",
    "    \n",
    "    # Initialize parameters\n",
    "    num_params = 2 * num_qubits + 1  # Rotation params + λ\n",
    "    initial_params = np.random.random(num_params) * 2 * np.pi\n",
    "    \n",
    "    # Setup optimizer\n",
    "    optimizer = COBYLA(maxiter=1000)\n",
    "    \n",
    "    # Run optimization\n",
    "    opt_result = optimizer.minimize(\n",
    "        fun=cost,\n",
    "        x0=initial_params,\n",
    "        args=(h0_operator, v_operator, backend)\n",
    "    )\n",
    "    \n",
    "    return opt_result.x"
   ]
  },
  {
   "cell_type": "code",
   "execution_count": null,
   "id": "a56aa0e5-8da0-4eef-8a5d-43d077efefa0",
   "metadata": {},
   "outputs": [],
   "source": [
    "\"\"\"# Example usage\n",
    "num_qubits = 2\n",
    "    \n",
    "# Define H0 and V operators (example)\n",
    "h0 = Operator([[1, 0, 0, 0],\n",
    "               [0, 2, 0, 0],\n",
    "               [0, 0, 2, 0],\n",
    "               [0, 0, 0, 3]])\n",
    "\n",
    "v = Operator([[0, 1, 0, 0],\n",
    "              [1, 0, 0, 0],\n",
    "              [0, 0, 0, 1],\n",
    "              [0, 0, 1, 0]])\n",
    "\n",
    "# Create quantum circuit for H0\n",
    "h0_circuit = QuantumCircuit(num_qubits)\n",
    "h0_circuit.compose(h0, inplace=True)\n",
    "\n",
    "# Find good basis states\n",
    "optimal_params = find_good_basis(h0_circuit, v, num_qubits, backend)\n",
    "\n",
    "# Create optimized circuit\n",
    "final_circuit = perturb_ansatz(h0_circuit, v, optimal_params)\n",
    "\n",
    "return final_circuit, optimal_params"
   ]
  },
  {
   "cell_type": "markdown",
   "id": "b3ec87cd-2b52-46c3-84d8-0a974a413d47",
   "metadata": {},
   "source": [
    "# Algorithm"
   ]
  },
  {
   "cell_type": "code",
   "execution_count": 6,
   "id": "1633041d-92cc-46a4-9ec3-5c785fe044cb",
   "metadata": {},
   "outputs": [],
   "source": [
    "from qiskit import QuantumCircuit\n",
    "from qiskit.circuit.library import PauliEvolutionGate\n",
    "from qiskit.quantum_info import Operator, SparsePauliOp, Statevector\n",
    "from qiskit_aer import AerSimulator\n",
    "import numpy as np"
   ]
  },
  {
   "cell_type": "code",
   "execution_count": 7,
   "id": "4cd4f113-8dca-464d-a63b-7e0ecd6ffae5",
   "metadata": {},
   "outputs": [],
   "source": [
    "def ansatz(num_qubits, params):\n",
    "    \"\"\"Creates a parameterized circuit for finding good basis states.\"\"\"\n",
    "    \n",
    "    qc = QuantumCircuit(num_qubits)\n",
    "    \n",
    "    # Layer of single-qubit rotations\n",
    "    for i in range(num_qubits):\n",
    "        qc.ry(params[i * 2], i)\n",
    "        qc.rz(params[i * 2 + 1], i)\n",
    "    \n",
    "    # Entangling layer\n",
    "    for i in range(num_qubits - 1):\n",
    "        qc.cx(i, i + 1)  # Use cx instead of cnot\n",
    "    \n",
    "    return qc\n",
    "\n",
    "def perturb_ansatz(h0_circuit, v_operator, params):\n",
    "    \"\"\"Combines unperturbed and perturbation circuits.\"\"\"\n",
    "    \n",
    "    num_qubits = h0_circuit.num_qubits\n",
    "    qc = QuantumCircuit(num_qubits)\n",
    "    \n",
    "    # Apply H0 circuit\n",
    "    qc.compose(h0_circuit, inplace=True)\n",
    "    \n",
    "    # Apply perturbation with small parameter λ\n",
    "    lambda_param = params[-1]  # Last parameter is λ\n",
    "    evolution_gate = PauliEvolutionGate(SparsePauliOp.from_operator(v_operator), time=lambda_param)\n",
    "    qc.append(evolution_gate, range(num_qubits))\n",
    "    \n",
    "    return qc\n",
    "\n",
    "def cost(params, h0_circuit, v_operator):\n",
    "    \"\"\"Cost function for VQE optimization.\"\"\"\n",
    "    \n",
    "    circuit = perturb_ansatz(h0_circuit, v_operator, params)\n",
    "    \n",
    "    # Use Statevector to calculate expectation value\n",
    "    state = Statevector.from_instruction(circuit)\n",
    "    energy = np.real(state.expectation_value(v_operator))\n",
    "    \n",
    "    return energy\n",
    "\n",
    "def find_good_basis(h0_operator, v_operator, num_qubits):\n",
    "    \"\"\"Find good basis states for degenerate perturbation theory.\"\"\"\n",
    "    \n",
    "    # Initialize parameters\n",
    "    num_params = 2 * num_qubits + 1  # Rotation params + λ\n",
    "    initial_params = np.random.random(num_params) * 2 * np.pi\n",
    "    \n",
    "    # Setup optimizer (COBYLA from scipy.optimize)\n",
    "    from scipy.optimize import minimize\n",
    "    result = minimize(\n",
    "        fun=cost,\n",
    "        x0=initial_params,\n",
    "        args=(ansatz(num_qubits, initial_params[:-1]), v_operator),\n",
    "        method='COBYLA',\n",
    "        options={'maxiter': 1000}\n",
    "    )\n",
    "    \n",
    "    return result.x\n",
    "\n",
    "def get_basis_eigenvectors(num_qubits, optimized_params):\n",
    "    '''Constructs the basis eigenvectors from the optimized parameters.'''\n",
    "    \n",
    "    # Split parameters into rotation parameters and λ (last parameter is λ)\n",
    "    rotation_params = optimized_params[:-1]\n",
    "    \n",
    "    # Create the parameterized circuit using the optimized parameters\n",
    "    qc = QuantumCircuit(num_qubits)\n",
    "    \n",
    "    # Apply single-qubit rotations\n",
    "    for i in range(num_qubits):\n",
    "        qc.ry(rotation_params[i * 2], i)\n",
    "        qc.rz(rotation_params[i * 2 + 1], i)\n",
    "    \n",
    "    # Apply entangling layer (CNOT gates)\n",
    "    for i in range(num_qubits - 1):\n",
    "        qc.cx(i, i + 1)\n",
    "    \n",
    "    # Get the resulting statevector\n",
    "    state = Statevector.from_instruction(qc)\n",
    "    \n",
    "    return state"
   ]
  },
  {
   "cell_type": "markdown",
   "id": "11899679-bbe8-4a26-b44c-ebf1d6ecdb27",
   "metadata": {},
   "source": [
    "# Test Case"
   ]
  },
  {
   "cell_type": "code",
   "execution_count": 9,
   "id": "31201028-207f-405f-a408-d9937711fb5d",
   "metadata": {},
   "outputs": [
    {
     "name": "stdout",
     "output_type": "stream",
     "text": [
      "Optimized Parameters: [1.72492895 2.9693849  2.1462617  2.97943774 3.9549015 ]\n",
      "Basis Eigenvector (Statevector):\n",
      "Statevector([-0.30623514-0.05167917j, -0.6580226 +0.11104559j,\n",
      "              0.57164632+0.00287336j,  0.36253737-0.00182228j],\n",
      "            dims=(2, 2))\n"
     ]
    }
   ],
   "source": [
    "\n",
    "# Define the number of qubits\n",
    "num_qubits = 2\n",
    "\n",
    "# Create H0 operator (unperturbed Hamiltonian)\n",
    "h0_matrix = np.diag([1, 0, 0, -1])  # Example diagonal matrix for simplicity\n",
    "h0_operator = Operator(h0_matrix)\n",
    "\n",
    "# Create V operator (perturbation Hamiltonian)\n",
    "v_matrix = np.array([[0, 1, 1, 0], [1, 0, 0, 1], [1, 0, 0, 1], [0, 1, 1, 0]])  # Example perturbation\n",
    "v_operator = Operator(v_matrix)\n",
    "\n",
    "# Find optimized parameters for good basis states\n",
    "optimized_params = find_good_basis(h0_operator, v_operator, num_qubits)\n",
    "print(\"Optimized Parameters:\", optimized_params)\n",
    "\n",
    "eigenvector = get_basis_eigenvectors(num_qubits, optimized_params)\n",
    "\n",
    "# Print results\n",
    "print(\"Basis Eigenvector (Statevector):\")\n",
    "print(eigenvector)"
   ]
  }
 ],
 "metadata": {
  "kernelspec": {
   "display_name": "Python 3 (ipykernel)",
   "language": "python",
   "name": "python3"
  },
  "language_info": {
   "codemirror_mode": {
    "name": "ipython",
    "version": 3
   },
   "file_extension": ".py",
   "mimetype": "text/x-python",
   "name": "python",
   "nbconvert_exporter": "python",
   "pygments_lexer": "ipython3",
   "version": "3.11.10"
  }
 },
 "nbformat": 4,
 "nbformat_minor": 5
}
